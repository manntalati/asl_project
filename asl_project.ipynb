{
 "cells": [
  {
   "cell_type": "code",
   "execution_count": 18,
   "id": "254383a8-16ca-4b5c-a42a-c55e7193834d",
   "metadata": {},
   "outputs": [],
   "source": [
    "import tensorflow as tf\n",
    "from tensorflow.keras import layers, models\n",
    "import matplotlib.pyplot as plt\n",
    "import numpy as np"
   ]
  },
  {
   "cell_type": "code",
   "execution_count": 19,
   "id": "664d376c-61d5-4f3d-8124-1d4c6d5bfba9",
   "metadata": {},
   "outputs": [],
   "source": [
    "train_path = 'C:/Users/Mann/demos/asl/asl_alphabet_train/asl_alphabet_train'\n",
    "test_path = 'C:/Users/Mann/demos/asl/asl_alphabet_test/'"
   ]
  },
  {
   "cell_type": "code",
   "execution_count": 20,
   "id": "7fe7fdcf-4660-45a9-a3aa-24012e4a78f3",
   "metadata": {},
   "outputs": [
    {
     "name": "stdout",
     "output_type": "stream",
     "text": [
      "Found 87000 files belonging to 29 classes.\n",
      "Using 69600 files for training.\n",
      "Using 17400 files for validation.\n"
     ]
    }
   ],
   "source": [
    "train_data = tf.keras.utils.image_dataset_from_directory(\n",
    "    train_path,\n",
    "    shuffle=True,\n",
    "    image_size=(200, 200),\n",
    "    batch_size=24,\n",
    "    validation_split=0.2,\n",
    "    subset='both',\n",
    "    seed=10)"
   ]
  },
  {
   "cell_type": "code",
   "execution_count": 21,
   "id": "fe79d97d-f3d0-4335-949e-343585ad5e0a",
   "metadata": {},
   "outputs": [
    {
     "name": "stdout",
     "output_type": "stream",
     "text": [
      "Found 32 files belonging to 1 classes.\n"
     ]
    }
   ],
   "source": [
    "test_data = tf.keras.utils.image_dataset_from_directory(\n",
    "    test_path,\n",
    "    shuffle=False,\n",
    "    image_size=(200, 200),\n",
    "    batch_size=24,\n",
    "    validation_split=False)"
   ]
  },
  {
   "cell_type": "code",
   "execution_count": 22,
   "id": "f2bed4d1-1673-4664-89d0-9e212557f1ad",
   "metadata": {},
   "outputs": [],
   "source": [
    "train_class_names = train_data[0].class_names\n",
    "val_class_names = train_data[1].class_names"
   ]
  },
  {
   "cell_type": "code",
   "execution_count": 23,
   "id": "30b3a8ea-79ae-4a45-a175-da05886bbedc",
   "metadata": {},
   "outputs": [],
   "source": [
    "cnn = models.Sequential([\n",
    "    layers.Rescaling(1./255),\n",
    "    layers.Conv2D(filters=32, kernel_size=(3, 3), activation='relu', input_shape=(200, 200, 3)),\n",
    "    layers.MaxPooling2D((2, 2)),\n",
    "\n",
    "    layers.Conv2D(filters=32, kernel_size=(3, 3), activation='relu', input_shape=(200, 200, 3)),\n",
    "    layers.MaxPooling2D((2, 2)),\n",
    "\n",
    "    #layers.Conv2D(filters=32, kernel_size=(3, 3), activation='relu', input_shape=(200, 200, 3)),\n",
    "    #layers.MaxPooling2D((2, 2)),\n",
    "\n",
    "    layers.Flatten(),\n",
    "    layers.Dense(64, activation='relu'),\n",
    "    layers.Dense(32, activation='softmax')\n",
    "])\n",
    "\n",
    "cnn.compile(optimizer='adam',\n",
    "            loss='sparse_categorical_crossentropy',\n",
    "            metrics=['accuracy'])"
   ]
  },
  {
   "cell_type": "code",
   "execution_count": null,
   "id": "bba375af-fe45-468e-ba92-6f409bc2c1cb",
   "metadata": {},
   "outputs": [
    {
     "name": "stdout",
     "output_type": "stream",
     "text": [
      "Epoch 1/5\n",
      "\u001b[1m  45/2900\u001b[0m \u001b[37m━━━━━━━━━━━━━━━━━━━━\u001b[0m \u001b[1m15:07\u001b[0m 318ms/step - accuracy: 0.0287 - loss: 4.1883"
     ]
    }
   ],
   "source": [
    "cnn.fit(train_data[0], validation_data=train_data[1], epochs=5)"
   ]
  },
  {
   "cell_type": "code",
   "execution_count": null,
   "id": "d7292acd-4912-40fa-b623-d9a43016ce69",
   "metadata": {},
   "outputs": [],
   "source": [
    "pred = cnn.predict(test_data)"
   ]
  },
  {
   "cell_type": "code",
   "execution_count": null,
   "id": "1622bc09-dbfa-4aa4-949c-80d77b52fa0f",
   "metadata": {},
   "outputs": [],
   "source": [
    "image = tf.keras.utils.load_img('asl_alphabet_test/asl_alphabet_test/m.jpg')\n",
    "image = tf.image.resize(image, size=(200, 200))\n",
    "arr = tf.keras.utils.array_to_img(image)\n",
    "img_bat = tf.expand_dims(arr, 0)\n",
    "train_class_names[np.argmax(cnn.predict(img_bat))]"
   ]
  }
 ],
 "metadata": {
  "kernelspec": {
   "display_name": "Python 3 (ipykernel)",
   "language": "python",
   "name": "python3"
  },
  "language_info": {
   "codemirror_mode": {
    "name": "ipython",
    "version": 3
   },
   "file_extension": ".py",
   "mimetype": "text/x-python",
   "name": "python",
   "nbconvert_exporter": "python",
   "pygments_lexer": "ipython3",
   "version": "3.11.9"
  }
 },
 "nbformat": 4,
 "nbformat_minor": 5
}
