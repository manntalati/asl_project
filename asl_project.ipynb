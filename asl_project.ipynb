{
 "cells": [
  {
   "cell_type": "code",
   "execution_count": 1,
   "id": "254383a8-16ca-4b5c-a42a-c55e7193834d",
   "metadata": {},
   "outputs": [],
   "source": [
    "import tensorflow as tf\n",
    "from tensorflow.keras import layers, models\n",
    "import matplotlib.pyplot as plt\n",
    "import numpy as np"
   ]
  },
  {
   "cell_type": "code",
   "execution_count": 2,
   "id": "664d376c-61d5-4f3d-8124-1d4c6d5bfba9",
   "metadata": {},
   "outputs": [],
   "source": [
    "train_path = 'C:/Users/Mann/demos/asl/asl_alphabet_train/asl_alphabet_train'\n",
    "test_path = 'C:/Users/Mann/demos/asl/asl_alphabet_test/'"
   ]
  },
  {
   "cell_type": "code",
   "execution_count": 3,
   "id": "7fe7fdcf-4660-45a9-a3aa-24012e4a78f3",
   "metadata": {},
   "outputs": [
    {
     "name": "stdout",
     "output_type": "stream",
     "text": [
      "Found 87000 files belonging to 29 classes.\n",
      "Using 69600 files for training.\n",
      "Using 17400 files for validation.\n"
     ]
    }
   ],
   "source": [
    "data_train = tf.keras.utils.image_dataset_from_directory(\n",
    "    train_path,\n",
    "    shuffle=True,\n",
    "    image_size=(200, 200),\n",
    "    batch_size=24,\n",
    "    validation_split=0.2,\n",
    "    subset='both',\n",
    "    seed=10)"
   ]
  },
  {
   "cell_type": "code",
   "execution_count": 4,
   "id": "fe79d97d-f3d0-4335-949e-343585ad5e0a",
   "metadata": {},
   "outputs": [
    {
     "name": "stdout",
     "output_type": "stream",
     "text": [
      "Found 32 files belonging to 1 classes.\n"
     ]
    }
   ],
   "source": [
    "data_test = tf.keras.utils.image_dataset_from_directory(\n",
    "    test_path,\n",
    "    shuffle=False,\n",
    "    image_size=(200, 200),\n",
    "    batch_size=24,\n",
    "    validation_split=False)"
   ]
  },
  {
   "cell_type": "code",
   "execution_count": 5,
   "id": "f2bed4d1-1673-4664-89d0-9e212557f1ad",
   "metadata": {},
   "outputs": [],
   "source": [
    "train_class_names = data_train[0].class_names\n",
    "val_class_names = data_train[1].class_names"
   ]
  },
  {
   "cell_type": "code",
   "execution_count": 7,
   "id": "30b3a8ea-79ae-4a45-a175-da05886bbedc",
   "metadata": {},
   "outputs": [],
   "source": [
    "cnn = models.Sequential([\n",
    "    layers.Rescaling(1./255),\n",
    "    layers.Conv2D(filters=32, kernel_size=(3, 3), activation='relu', input_shape=(200, 200, 3)),\n",
    "    layers.MaxPooling2D((2, 2)),\n",
    "\n",
    "    layers.Conv2D(filters=32, kernel_size=(3, 3), activation='relu', input_shape=(200, 200, 3)),\n",
    "    layers.MaxPooling2D((2, 2)),\n",
    "\n",
    "    #layers.Conv2D(filters=32, kernel_size=(3, 3), activation='relu', input_shape=(200, 200, 3)),\n",
    "    #layers.MaxPooling2D((2, 2)),\n",
    "\n",
    "    layers.Flatten(),\n",
    "    layers.Dense(64, activation='relu'),\n",
    "    layers.Dense(32, activation='softmax')\n",
    "])\n",
    "\n",
    "cnn.compile(optimizer='adam',\n",
    "            loss='sparse_categorical_crossentropy',\n",
    "            metrics=['accuracy'])"
   ]
  },
  {
   "cell_type": "code",
   "execution_count": 8,
   "id": "bba375af-fe45-468e-ba92-6f409bc2c1cb",
   "metadata": {},
   "outputs": [
    {
     "name": "stdout",
     "output_type": "stream",
     "text": [
      "Epoch 1/5\n",
      "\u001b[1m2900/2900\u001b[0m \u001b[32m━━━━━━━━━━━━━━━━━━━━\u001b[0m\u001b[37m\u001b[0m \u001b[1m1452s\u001b[0m 499ms/step - accuracy: 0.5082 - loss: 1.6786 - val_accuracy: 0.8978 - val_loss: 0.2829\n",
      "Epoch 2/5\n",
      "\u001b[1m2900/2900\u001b[0m \u001b[32m━━━━━━━━━━━━━━━━━━━━\u001b[0m\u001b[37m\u001b[0m \u001b[1m1062s\u001b[0m 366ms/step - accuracy: 0.9326 - loss: 0.1966 - val_accuracy: 0.9377 - val_loss: 0.1943\n",
      "Epoch 3/5\n",
      "\u001b[1m2900/2900\u001b[0m \u001b[32m━━━━━━━━━━━━━━━━━━━━\u001b[0m\u001b[37m\u001b[0m \u001b[1m3174s\u001b[0m 1s/step - accuracy: 0.9621 - loss: 0.1149 - val_accuracy: 0.9536 - val_loss: 0.1424\n",
      "Epoch 4/5\n",
      "\u001b[1m2900/2900\u001b[0m \u001b[32m━━━━━━━━━━━━━━━━━━━━\u001b[0m\u001b[37m\u001b[0m \u001b[1m971s\u001b[0m 335ms/step - accuracy: 0.9756 - loss: 0.0752 - val_accuracy: 0.9595 - val_loss: 0.1412\n",
      "Epoch 5/5\n",
      "\u001b[1m2900/2900\u001b[0m \u001b[32m━━━━━━━━━━━━━━━━━━━━\u001b[0m\u001b[37m\u001b[0m \u001b[1m973s\u001b[0m 336ms/step - accuracy: 0.9805 - loss: 0.0592 - val_accuracy: 0.9741 - val_loss: 0.0944\n"
     ]
    },
    {
     "data": {
      "text/plain": [
       "<keras.src.callbacks.history.History at 0x297c7ea7d50>"
      ]
     },
     "execution_count": 8,
     "metadata": {},
     "output_type": "execute_result"
    }
   ],
   "source": [
    "cnn.fit(data_train[0], validation_data=data_train[1], epochs=5)"
   ]
  },
  {
   "cell_type": "code",
   "execution_count": 11,
   "id": "d7292acd-4912-40fa-b623-d9a43016ce69",
   "metadata": {},
   "outputs": [
    {
     "name": "stdout",
     "output_type": "stream",
     "text": [
      "\u001b[1m2/2\u001b[0m \u001b[32m━━━━━━━━━━━━━━━━━━━━\u001b[0m\u001b[37m\u001b[0m \u001b[1m0s\u001b[0m 40ms/step \n"
     ]
    }
   ],
   "source": [
    "pred = cnn.predict(data_test)"
   ]
  },
  {
   "cell_type": "code",
   "execution_count": 17,
   "id": "1622bc09-dbfa-4aa4-949c-80d77b52fa0f",
   "metadata": {},
   "outputs": [
    {
     "name": "stdout",
     "output_type": "stream",
     "text": [
      "\u001b[1m1/1\u001b[0m \u001b[32m━━━━━━━━━━━━━━━━━━━━\u001b[0m\u001b[37m\u001b[0m \u001b[1m0s\u001b[0m 45ms/step\n"
     ]
    },
    {
     "data": {
      "text/plain": [
       "'F'"
      ]
     },
     "execution_count": 17,
     "metadata": {},
     "output_type": "execute_result"
    }
   ],
   "source": [
    "image = tf.keras.utils.load_img('asl_alphabet_test/asl_alphabet_test/m.jpg')\n",
    "image = tf.image.resize(image, size=(200, 200))\n",
    "arr = tf.keras.utils.array_to_img(image)\n",
    "img_bat = tf.expand_dims(arr, 0)\n",
    "train_class_names[np.argmax(cnn.predict(img_bat))]"
   ]
  }
 ],
 "metadata": {
  "kernelspec": {
   "display_name": "Python 3 (ipykernel)",
   "language": "python",
   "name": "python3"
  },
  "language_info": {
   "codemirror_mode": {
    "name": "ipython",
    "version": 3
   },
   "file_extension": ".py",
   "mimetype": "text/x-python",
   "name": "python",
   "nbconvert_exporter": "python",
   "pygments_lexer": "ipython3",
   "version": "3.11.9"
  }
 },
 "nbformat": 4,
 "nbformat_minor": 5
}
