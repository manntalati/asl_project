{
 "cells": [
  {
   "cell_type": "code",
   "execution_count": 56,
   "id": "254383a8-16ca-4b5c-a42a-c55e7193834d",
   "metadata": {},
   "outputs": [],
   "source": [
    "import tensorflow as tf\n",
    "from tensorflow.keras import layers, models\n",
    "import matplotlib.pyplot as plt\n",
    "import numpy as np\n",
    "from sklearn.model_selection import KFold\n",
    "import cv2"
   ]
  },
  {
   "cell_type": "code",
   "execution_count": 65,
   "id": "664d376c-61d5-4f3d-8124-1d4c6d5bfba9",
   "metadata": {},
   "outputs": [],
   "source": [
    "train_path = 'C:/Users/Mann/demos/asl/train/'\n",
    "test_path = 'C:/Users/Mann/demos/asl/asl_alphabet_test/'"
   ]
  },
  {
   "cell_type": "code",
   "execution_count": 66,
   "id": "7fe7fdcf-4660-45a9-a3aa-24012e4a78f3",
   "metadata": {},
   "outputs": [
    {
     "name": "stdout",
     "output_type": "stream",
     "text": [
      "Found 2853 files belonging to 26 classes.\n",
      "Using 2283 files for training.\n",
      "Using 570 files for validation.\n"
     ]
    }
   ],
   "source": [
    "train_data = tf.keras.utils.image_dataset_from_directory(\n",
    "    train_path,\n",
    "    shuffle=True,\n",
    "    image_size=(640, 480),\n",
    "    batch_size=32,\n",
    "    validation_split=0.2,\n",
    "    subset='both',\n",
    "    seed=10)"
   ]
  },
  {
   "cell_type": "code",
   "execution_count": 67,
   "id": "fe79d97d-f3d0-4335-949e-343585ad5e0a",
   "metadata": {},
   "outputs": [
    {
     "name": "stdout",
     "output_type": "stream",
     "text": [
      "Found 27 files belonging to 1 classes.\n"
     ]
    }
   ],
   "source": [
    "test_data = tf.keras.utils.image_dataset_from_directory(\n",
    "    test_path,\n",
    "    shuffle=False,\n",
    "    image_size=(640, 480),\n",
    "    batch_size=32,\n",
    "    validation_split=False)"
   ]
  },
  {
   "cell_type": "code",
   "execution_count": 68,
   "id": "f2bed4d1-1673-4664-89d0-9e212557f1ad",
   "metadata": {},
   "outputs": [],
   "source": [
    "train_class_names = train_data[0].class_names\n",
    "val_class_names = train_data[1].class_names"
   ]
  },
  {
   "cell_type": "code",
   "execution_count": 69,
   "id": "30b3a8ea-79ae-4a45-a175-da05886bbedc",
   "metadata": {},
   "outputs": [],
   "source": [
    "cnn = models.Sequential([\n",
    "    layers.Rescaling(1./255),\n",
    "    layers.RandomFlip('horizontal'),\n",
    "    #layers.RandomRotation(0.1),\n",
    "    layers.Conv2D(filters=32, kernel_size=3, activation='relu', input_shape=(640, 480, 3)),\n",
    "    layers.MaxPooling2D((2, 2)),\n",
    "    layers.Conv2D(filters=32, kernel_size=(3, 3), activation='relu', input_shape=(640, 480, 3)),\n",
    "    layers.MaxPooling2D((2, 2)),\n",
    "    #layers.Dropout(0.1),\n",
    "    layers.Flatten(),\n",
    "    layers.Dense(64, activation='relu'),\n",
    "    #layers.Dense(128, activation='relu'),\n",
    "    layers.Dense(32, activation='softmax')\n",
    "])\n",
    "\n",
    "cnn.compile(optimizer='adam',\n",
    "            loss='sparse_categorical_crossentropy',\n",
    "            metrics=['accuracy'])"
   ]
  },
  {
   "cell_type": "code",
   "execution_count": 70,
   "id": "bba375af-fe45-468e-ba92-6f409bc2c1cb",
   "metadata": {},
   "outputs": [
    {
     "name": "stdout",
     "output_type": "stream",
     "text": [
      "Epoch 1/3\n",
      "\u001b[1m72/72\u001b[0m \u001b[32m━━━━━━━━━━━━━━━━━━━━\u001b[0m\u001b[37m\u001b[0m \u001b[1m7125s\u001b[0m 100s/step - accuracy: 0.1659 - loss: 6.5865 - val_accuracy: 0.5649 - val_loss: 1.4201\n",
      "Epoch 2/3\n",
      "\u001b[1m72/72\u001b[0m \u001b[32m━━━━━━━━━━━━━━━━━━━━\u001b[0m\u001b[37m\u001b[0m \u001b[1m239s\u001b[0m 3s/step - accuracy: 0.7003 - loss: 0.9661 - val_accuracy: 0.8544 - val_loss: 0.5132\n",
      "Epoch 3/3\n",
      "\u001b[1m72/72\u001b[0m \u001b[32m━━━━━━━━━━━━━━━━━━━━\u001b[0m\u001b[37m\u001b[0m \u001b[1m446s\u001b[0m 6s/step - accuracy: 0.8982 - loss: 0.3533 - val_accuracy: 0.8930 - val_loss: 0.3238\n"
     ]
    },
    {
     "data": {
      "text/plain": [
       "<keras.src.callbacks.history.History at 0x2dd0ca984d0>"
      ]
     },
     "execution_count": 70,
     "metadata": {},
     "output_type": "execute_result"
    }
   ],
   "source": [
    "cnn.fit(train_data[0], validation_data=train_data[1], epochs=3)"
   ]
  },
  {
   "cell_type": "code",
   "execution_count": 71,
   "id": "d7292acd-4912-40fa-b623-d9a43016ce69",
   "metadata": {},
   "outputs": [
    {
     "name": "stdout",
     "output_type": "stream",
     "text": [
      "\u001b[1m1/1\u001b[0m \u001b[32m━━━━━━━━━━━━━━━━━━━━\u001b[0m\u001b[37m\u001b[0m \u001b[1m5s\u001b[0m 5s/step - accuracy: 0.0370 - loss: 2.0535\n"
     ]
    }
   ],
   "source": [
    "evalu = cnn.evaluate(test_data)"
   ]
  },
  {
   "cell_type": "code",
   "execution_count": 72,
   "id": "94c359e8-3c4a-401a-8011-fde34696049a",
   "metadata": {},
   "outputs": [
    {
     "name": "stdout",
     "output_type": "stream",
     "text": [
      "WARNING:tensorflow:5 out of the last 15 calls to <function TensorFlowTrainer.make_predict_function.<locals>.one_step_on_data_distributed at 0x000002DD11950E00> triggered tf.function retracing. Tracing is expensive and the excessive number of tracings could be due to (1) creating @tf.function repeatedly in a loop, (2) passing tensors with different shapes, (3) passing Python objects instead of tensors. For (1), please define your @tf.function outside of the loop. For (2), @tf.function has reduce_retracing=True option that can avoid unnecessary retracing. For (3), please refer to https://www.tensorflow.org/guide/function#controlling_retracing and https://www.tensorflow.org/api_docs/python/tf/function for  more details.\n",
      "\u001b[1m1/1\u001b[0m \u001b[32m━━━━━━━━━━━━━━━━━━━━\u001b[0m\u001b[37m\u001b[0m \u001b[1m2s\u001b[0m 2s/step\n",
      "C_train\n",
      "B_train\n",
      "C_train\n",
      "Q_train\n",
      "B_train\n",
      "B_train\n",
      "B_train\n",
      "C_train\n",
      "B_train\n",
      "B_train\n",
      "B_train\n",
      "B_train\n",
      "A_train\n",
      "B_train\n",
      "B_train\n",
      "B_train\n",
      "B_train\n",
      "C_train\n",
      "B_train\n",
      "B_train\n",
      "C_train\n",
      "B_train\n",
      "B_train\n",
      "B_train\n",
      "B_train\n",
      "C_train\n",
      "C_train\n"
     ]
    }
   ],
   "source": [
    "for num in cnn.predict(test_data):\n",
    "    print(train_class_names[np.argmax(num)])"
   ]
  },
  {
   "cell_type": "code",
   "execution_count": 73,
   "id": "d1fdc44b-0dd1-422e-8682-d31af01f584a",
   "metadata": {},
   "outputs": [],
   "source": [
    "import imutils"
   ]
  },
  {
   "cell_type": "code",
   "execution_count": 83,
   "id": "2638c2cb-aa70-403e-bbfc-f724a7d22d42",
   "metadata": {},
   "outputs": [
    {
     "name": "stdout",
     "output_type": "stream",
     "text": [
      "\u001b[1m1/1\u001b[0m \u001b[32m━━━━━━━━━━━━━━━━━━━━\u001b[0m\u001b[37m\u001b[0m \u001b[1m0s\u001b[0m 76ms/step\n"
     ]
    },
    {
     "data": {
      "text/plain": [
       "'B_train'"
      ]
     },
     "execution_count": 83,
     "metadata": {},
     "output_type": "execute_result"
    }
   ],
   "source": [
    "#image = tf.keras.utils.load_img('C:/Users/Mann/demos/asl/asl_alphabet_test/asl_alphabet_test/A_test.png')\n",
    "image2 = cv2.imread('C:/Users/Mann/demos/asl/asl_alphabet_test/test.png')\n",
    "image2 = imutils.resize(image2, width=640, height=480)\n",
    "cv2.imwrite('C:/Users/Mann/demos/asl/asl_alphabet_test/test.png', image2)\n",
    "image = tf.keras.utils.load_img('C:/Users/Mann/demos/asl/asl_alphabet_test/test.png')\n",
    "image = tf.image.resize(image, size=(640, 480))\n",
    "#cv2.imshow('', 'asl_alphabet_test/asl_alphabet_test/F_test.jpg')\n",
    "arr = tf.keras.utils.array_to_img(image)\n",
    "img_bat = tf.expand_dims(arr, 0)\n",
    "train_class_names[np.argmax(cnn.predict(img_bat))]\n",
    "\n",
    "#cnn.predict('asl_alphabet_test/asl_alphabet_test/A.png')"
   ]
  }
 ],
 "metadata": {
  "kernelspec": {
   "display_name": "Python 3 (ipykernel)",
   "language": "python",
   "name": "python3"
  },
  "language_info": {
   "codemirror_mode": {
    "name": "ipython",
    "version": 3
   },
   "file_extension": ".py",
   "mimetype": "text/x-python",
   "name": "python",
   "nbconvert_exporter": "python",
   "pygments_lexer": "ipython3",
   "version": "3.11.9"
  }
 },
 "nbformat": 4,
 "nbformat_minor": 5
}
